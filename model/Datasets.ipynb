{
 "cells": [
  {
   "cell_type": "code",
   "execution_count": 5,
   "metadata": {},
   "outputs": [],
   "source": [
    "from sklearn.preprocessing import LabelBinarizer\n",
    "from sklearn.preprocessing import MinMaxScaler\n",
    "import pandas as pd\n",
    "import numpy as np\n",
    "import glob\n",
    "import cv2\n",
    "import os"
   ]
  },
  {
   "cell_type": "code",
   "execution_count": 7,
   "metadata": {},
   "outputs": [],
   "source": [
    "df = pd.read_csv(\"../data/combined_browse_info.csv\")"
   ]
  },
  {
   "cell_type": "code",
   "execution_count": 8,
   "metadata": {},
   "outputs": [
    {
     "data": {
      "text/plain": [
       "Index(['belowRetail', 'brand', 'category', 'colorway', 'condition', 'gender',\n",
       "       'id', 'market', 'name', 'objectID', 'releaseDate', 'releaseTime',\n",
       "       'retailPrice', 'shoe', 'shortDescription', 'styleId', 'tickerSymbol',\n",
       "       'title', 'urlKey', 'uuid', 'year', 'imageUrl', 'absChangePercentage',\n",
       "       'annualHigh', 'annualLow', 'averageDeadstockPrice',\n",
       "       'averageDeadstockPriceRank', 'changePercentage', 'changeValue',\n",
       "       'createdAt', 'deadstockRangeHigh', 'deadstockRangeLow', 'deadstockSold',\n",
       "       'deadstockSoldRank', 'featured', 'highestBid', 'highestBidSize',\n",
       "       'lastHighestBidTime', 'lastLowestAskTime', 'lastSale', 'lastSaleDate',\n",
       "       'lastSaleSize', 'lowestAsk', 'lowestAskSize', 'numberOfAsks',\n",
       "       'numberOfBids', 'parentLowestAsk', 'pricePremium', 'pricePremiumRank',\n",
       "       'productId', 'productUuid', 'salesLast72Hours', 'salesLastPeriod',\n",
       "       'salesThisPeriod', 'skuUuid', 'totalDollars', 'updatedAt',\n",
       "       'volatility'],\n",
       "      dtype='object')"
      ]
     },
     "execution_count": 8,
     "metadata": {},
     "output_type": "execute_result"
    }
   ],
   "source": [
    "df.columns"
   ]
  },
  {
   "cell_type": "code",
   "execution_count": 11,
   "metadata": {},
   "outputs": [],
   "source": [
    "# Columns\n",
    "# * brand\n",
    "# * category\n",
    "# * colorway\n",
    "# * gender\n",
    "# * id\n",
    "# * name\n",
    "# * title\n",
    "# * averageDeadstockPrice\n",
    "# * deadstockSold\n",
    "# * imageUrl"
   ]
  },
  {
   "cell_type": "code",
   "execution_count": null,
   "metadata": {
    "collapsed": true
   },
   "outputs": [],
   "source": []
  }
 ],
 "metadata": {
  "kernelspec": {
   "display_name": "Python 3",
   "language": "python",
   "name": "python3"
  }
 },
 "nbformat": 4,
 "nbformat_minor": 2
}
