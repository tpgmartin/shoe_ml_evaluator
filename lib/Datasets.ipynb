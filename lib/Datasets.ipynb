{
 "cells": [
  {
   "cell_type": "code",
   "execution_count": 3,
   "metadata": {
    "collapsed": true
   },
   "outputs": [],
   "source": [
    "import sys\n",
    "\n",
    "def change_python_version(pv):\n",
    "    \n",
    "    if \"/lib\" in pv:\n",
    "        pv = pv.replace(\"/lib\", \"/envs/shoe_ml_evaluator/lib\")\n",
    "    \n",
    "    if \"python36\" in pv:\n",
    "        pv = pv.replace(\"python36\", \"python37\")\n",
    "    elif \"python3.6\" in pv:\n",
    "        pv = pv.replace(\"python3.6\", \"python3.7\")\n",
    "\n",
    "    return pv\n",
    "\n",
    "updated_path = list(map(change_python_version, sys.path))\n",
    "sys.path.extend(updated_path)"
   ]
  },
  {
   "cell_type": "code",
   "execution_count": 4,
   "metadata": {},
   "outputs": [
    {
     "ename": "ModuleNotFoundError",
     "evalue": "No module named 'cv2.cv2'",
     "output_type": "error",
     "traceback": [
      "\u001b[0;31m---------------------------------------------------------------------------\u001b[0m",
      "\u001b[0;31mModuleNotFoundError\u001b[0m                       Traceback (most recent call last)",
      "\u001b[0;32m<ipython-input-4-f339254194ad>\u001b[0m in \u001b[0;36m<module>\u001b[0;34m()\u001b[0m\n\u001b[0;32m----> 1\u001b[0;31m \u001b[0;32mimport\u001b[0m \u001b[0mcv2\u001b[0m\u001b[0;34m\u001b[0m\u001b[0m\n\u001b[0m\u001b[1;32m      2\u001b[0m \u001b[0;32mimport\u001b[0m \u001b[0mglob\u001b[0m\u001b[0;34m\u001b[0m\u001b[0m\n\u001b[1;32m      3\u001b[0m \u001b[0;32mfrom\u001b[0m \u001b[0mjoblib\u001b[0m \u001b[0;32mimport\u001b[0m \u001b[0mdump\u001b[0m\u001b[0;34m,\u001b[0m\u001b[0mload\u001b[0m\u001b[0;34m\u001b[0m\u001b[0m\n\u001b[1;32m      4\u001b[0m \u001b[0;32mimport\u001b[0m \u001b[0mnumpy\u001b[0m \u001b[0;32mas\u001b[0m \u001b[0mnp\u001b[0m\u001b[0;34m\u001b[0m\u001b[0m\n\u001b[1;32m      5\u001b[0m \u001b[0;32mimport\u001b[0m \u001b[0mos\u001b[0m\u001b[0;34m\u001b[0m\u001b[0m\n",
      "\u001b[0;32m~/anaconda3/envs/shoe_ml_evaluator/lib/python3.7/site-packages/cv2/__init__.py\u001b[0m in \u001b[0;36m<module>\u001b[0;34m()\u001b[0m\n\u001b[1;32m      1\u001b[0m \u001b[0;32mimport\u001b[0m \u001b[0mimportlib\u001b[0m\u001b[0;34m\u001b[0m\u001b[0m\n\u001b[1;32m      2\u001b[0m \u001b[0;34m\u001b[0m\u001b[0m\n\u001b[0;32m----> 3\u001b[0;31m \u001b[0;32mfrom\u001b[0m \u001b[0;34m.\u001b[0m\u001b[0mcv2\u001b[0m \u001b[0;32mimport\u001b[0m \u001b[0;34m*\u001b[0m\u001b[0;34m\u001b[0m\u001b[0m\n\u001b[0m\u001b[1;32m      4\u001b[0m \u001b[0;32mfrom\u001b[0m \u001b[0;34m.\u001b[0m\u001b[0mdata\u001b[0m \u001b[0;32mimport\u001b[0m \u001b[0;34m*\u001b[0m\u001b[0;34m\u001b[0m\u001b[0m\n\u001b[1;32m      5\u001b[0m \u001b[0;34m\u001b[0m\u001b[0m\n",
      "\u001b[0;31mModuleNotFoundError\u001b[0m: No module named 'cv2.cv2'"
     ]
    }
   ],
   "source": [
    "import cv2\n",
    "import glob\n",
    "from joblib import dump,load\n",
    "import numpy as np\n",
    "import os\n",
    "import pandas as pd\n",
    "from sklearn.model_selection import train_test_split\n",
    "from sklearn.preprocessing import LabelBinarizer\n",
    "from sklearn.preprocessing import MinMaxScaler\n",
    "from sklearn.preprocessing import MultiLabelBinarizer\n",
    "import webcolors"
   ]
  },
  {
   "cell_type": "code",
   "execution_count": null,
   "metadata": {
    "collapsed": true
   },
   "outputs": [],
   "source": [
    "df = pd.read_csv(\"../data/browse_api_product_info.csv\")"
   ]
  },
  {
   "cell_type": "code",
   "execution_count": null,
   "metadata": {
    "collapsed": true
   },
   "outputs": [],
   "source": [
    "df = df[[\"brand\", \"category\", \"colorway\", \"gender\", \"title\", \"averageDeadstockPrice\", \"deadstockSold\", \"imageUrl\", \"pricePremium\"]]"
   ]
  },
  {
   "cell_type": "code",
   "execution_count": null,
   "metadata": {
    "collapsed": true
   },
   "outputs": [],
   "source": [
    "df"
   ]
  },
  {
   "cell_type": "code",
   "execution_count": null,
   "metadata": {
    "collapsed": true
   },
   "outputs": [],
   "source": [
    "def find_colours(colorway):\n",
    "    \n",
    "    colours = \" \".join(colorway.lower().split(\"/\")).split(\" \")\n",
    "    \n",
    "    unique_colours = list(set([colour_str for colour_str in colours if colour_str in webcolors.CSS3_NAMES_TO_HEX]))\n",
    "    \n",
    "    return sorted(unique_colours)\n",
    "\n",
    "df[\"uniqueColours\"] = df[\"colorway\"].apply(find_colours)"
   ]
  },
  {
   "cell_type": "code",
   "execution_count": null,
   "metadata": {
    "collapsed": true
   },
   "outputs": [],
   "source": [
    "df.head()"
   ]
  },
  {
   "cell_type": "code",
   "execution_count": null,
   "metadata": {
    "collapsed": true
   },
   "outputs": [],
   "source": [
    "# Entries where matching colour has not been found\n",
    "df[df['uniqueColours'].map(lambda d: len(d)) == 0].shape"
   ]
  },
  {
   "cell_type": "code",
   "execution_count": null,
   "metadata": {
    "collapsed": true
   },
   "outputs": [],
   "source": [
    "mlb = MultiLabelBinarizer()\n",
    "unique_colour_labels = mlb.fit_transform(df['uniqueColours'])\n",
    "df = df.join(pd.DataFrame(unique_colour_labels, columns=mlb.classes_))\n",
    "df.drop([\"uniqueColours\"], axis=1, inplace=True)\n",
    "df.head()"
   ]
  },
  {
   "cell_type": "code",
   "execution_count": null,
   "metadata": {
    "collapsed": true
   },
   "outputs": [],
   "source": [
    "cols_to_rename = {col: f\"colour_{col}\" for col in df.columns[9:]}\n",
    "df.rename(index=str, columns=cols_to_rename, inplace=True)\n",
    "df.columns"
   ]
  },
  {
   "cell_type": "code",
   "execution_count": null,
   "metadata": {
    "collapsed": true
   },
   "outputs": [],
   "source": [
    "def encode_categorical_features(df, category):\n",
    "    \n",
    "    encoded = pd.get_dummies(df[category], prefix=category)\n",
    "    \n",
    "    df = df.join(encoded)\n",
    "    df.drop([category], axis=1, inplace=True)\n",
    "    return df"
   ]
  },
  {
   "cell_type": "code",
   "execution_count": null,
   "metadata": {
    "collapsed": true
   },
   "outputs": [],
   "source": [
    "for category in [\"brand\", \"category\", \"gender\"]:\n",
    "    df = encode_categorical_features(df, category)"
   ]
  },
  {
   "cell_type": "code",
   "execution_count": null,
   "metadata": {
    "collapsed": true
   },
   "outputs": [],
   "source": [
    "df.head()"
   ]
  },
  {
   "cell_type": "code",
   "execution_count": null,
   "metadata": {
    "collapsed": true
   },
   "outputs": [],
   "source": [
    "cols = list(df.columns.values)\n",
    "cols.pop(cols.index(\"deadstockSold\"))\n",
    "df = df[cols+[\"deadstockSold\"]]"
   ]
  },
  {
   "cell_type": "code",
   "execution_count": null,
   "metadata": {
    "collapsed": true
   },
   "outputs": [],
   "source": [
    "df.head()"
   ]
  },
  {
   "cell_type": "code",
   "execution_count": null,
   "metadata": {
    "collapsed": true
   },
   "outputs": [],
   "source": [
    "df.drop([\"colorway\", \"title\", \"imageUrl\"], axis=1, inplace=True)"
   ]
  },
  {
   "cell_type": "code",
   "execution_count": null,
   "metadata": {
    "collapsed": true
   },
   "outputs": [],
   "source": [
    "X, y = df.iloc[:,:-1], df.iloc[:,-1]\n",
    "\n",
    "X_train, X_test, y_train, y_test = train_test_split(X, y, test_size=0.3, random_state=42)"
   ]
  },
  {
   "cell_type": "code",
   "execution_count": null,
   "metadata": {
    "collapsed": true
   },
   "outputs": [],
   "source": [
    "X_train.loc[:,\"averageDeadstockPrice\"] = MinMaxScaler().fit_transform(X_train[\"averageDeadstockPrice\"].values.reshape(-1, 1))\n",
    "X_test.loc[:,\"averageDeadstockPrice\"] = MinMaxScaler().fit_transform(X_test[\"averageDeadstockPrice\"].values.reshape(-1, 1))"
   ]
  },
  {
   "cell_type": "code",
   "execution_count": null,
   "metadata": {
    "collapsed": true
   },
   "outputs": [],
   "source": [
    "X_train.head()"
   ]
  },
  {
   "cell_type": "code",
   "execution_count": null,
   "metadata": {
    "collapsed": true
   },
   "outputs": [],
   "source": [
    "y_train.head()"
   ]
  },
  {
   "cell_type": "code",
   "execution_count": null,
   "metadata": {
    "collapsed": true
   },
   "outputs": [],
   "source": [
    "df.columns.values"
   ]
  },
  {
   "cell_type": "code",
   "execution_count": null,
   "metadata": {
    "collapsed": true
   },
   "outputs": [],
   "source": [
    "# X_train.loc[:,\"averageDeadstockPrice\"] = MinMaxScaler().fit_transform(X_train[\"averageDeadstockPrice\"].values.reshape(-1, 1))"
   ]
  },
  {
   "cell_type": "code",
   "execution_count": null,
   "metadata": {
    "collapsed": true
   },
   "outputs": [],
   "source": [
    "dump(df, \"df.joblib\")\n",
    "dump(X_train, \"X_train.joblib\")\n",
    "dump(y_train, \"y_train.joblib\")\n",
    "dump(X_test, \"X_test.joblib\")\n",
    "dump(y_test, \"y_test.joblib\")"
   ]
  },
  {
   "cell_type": "code",
   "execution_count": null,
   "metadata": {
    "collapsed": true
   },
   "outputs": [],
   "source": [
    "df.head()"
   ]
  },
  {
   "cell_type": "code",
   "execution_count": null,
   "metadata": {
    "collapsed": true
   },
   "outputs": [],
   "source": [
    "import seaborn as sns\n",
    "\n",
    "%matplotlib inline"
   ]
  },
  {
   "cell_type": "code",
   "execution_count": null,
   "metadata": {
    "collapsed": true
   },
   "outputs": [],
   "source": [
    "sns.distplot(df[\"averageDeadstockPrice\"], kde=False, rug=True)"
   ]
  },
  {
   "cell_type": "code",
   "execution_count": null,
   "metadata": {
    "collapsed": true
   },
   "outputs": [],
   "source": [
    "sns.distplot(df[\"averageDeadstockPrice\"].apply(np.log), kde=False, rug=True)"
   ]
  },
  {
   "cell_type": "code",
   "execution_count": null,
   "metadata": {
    "collapsed": true
   },
   "outputs": [],
   "source": [
    "print(\"df[\\\"averageDeadstockPrice\\\"].min()\", df[\"averageDeadstockPrice\"].min())\n",
    "print(\"df[\\\"averageDeadstockPrice\\\"].max()\", df[\"averageDeadstockPrice\"].max())"
   ]
  },
  {
   "cell_type": "code",
   "execution_count": null,
   "metadata": {
    "collapsed": true
   },
   "outputs": [],
   "source": [
    "sns.distplot(df[\"pricePremium\"], kde=False, rug=True)"
   ]
  },
  {
   "cell_type": "code",
   "execution_count": null,
   "metadata": {
    "collapsed": true
   },
   "outputs": [],
   "source": [
    "sns.distplot(df[\"pricePremium\"].apply(lambda p: np.log(p+1)), kde=False, rug=True)"
   ]
  },
  {
   "cell_type": "code",
   "execution_count": null,
   "metadata": {
    "collapsed": true
   },
   "outputs": [],
   "source": [
    "sns.distplot(df[\"deadstockSold\"], kde=False, rug=True)"
   ]
  },
  {
   "cell_type": "code",
   "execution_count": null,
   "metadata": {
    "collapsed": true
   },
   "outputs": [],
   "source": [
    "sns.distplot(df[\"deadstockSold\"].apply(lambda p: np.log(p+1)), kde=False, rug=True)"
   ]
  },
  {
   "cell_type": "code",
   "execution_count": 1,
   "metadata": {
    "collapsed": true
   },
   "outputs": [],
   "source": [
    "import pandas as pd"
   ]
  },
  {
   "cell_type": "code",
   "execution_count": 2,
   "metadata": {
    "collapsed": true
   },
   "outputs": [],
   "source": [
    "df = pd.read_csv(\"../data/browse_api_product_info.csv\")"
   ]
  },
  {
   "cell_type": "code",
   "execution_count": 4,
   "metadata": {},
   "outputs": [
    {
     "data": {
      "text/plain": [
       "0      https://stockx.imgix.net/Adidas-Yeezy-Boost-35...\n",
       "1      https://stockx.imgix.net/Adidas-Yeezy-Boost-35...\n",
       "2      https://stockx.imgix.net/Adidas-Yeezy-Wave-Run...\n",
       "3      https://stockx.imgix.net/Adidas-Yeezy-Boost-35...\n",
       "4      https://stockx.imgix.net/Adidas-Yeezy-Boost-35...\n",
       "5      https://stockx.imgix.net/Adidas-Yeezy-Boost-35...\n",
       "6      https://stockx.imgix.net/Adidas-Ultra-Boost-4-...\n",
       "7      https://stockx.imgix.net/Air-Jordan-11-Retro-W...\n",
       "8      https://stockx.imgix.net/Air-Jordan-1-Retro-Bl...\n",
       "9      https://stockx.imgix.net/Revenge-X-Storm-Low-T...\n",
       "10     https://stockx.imgix.net/Air-Jordan-11-Retro-M...\n",
       "11     https://stockx.imgix.net/Adidas-Ultra-Boost-4p...\n",
       "12     https://stockx.imgix.net/Nike-Air-Max-1-Annive...\n",
       "13     https://stockx.imgix.net/Adidas-Yeezy-Boost-35...\n",
       "14     https://stockx.imgix.net/Adidas-Ultra-Boost-4p...\n",
       "15     https://stockx.imgix.net/Nike-Air-Max-97-Metal...\n",
       "16     https://stockx.imgix.net/Nike-Air-Max-97-White...\n",
       "17     https://stockx.imgix.net/Revenge-X-Storm-Low-T...\n",
       "18     https://stockx.imgix.net/Adidas-Ultra-Boost-4-...\n",
       "19     https://stockx.imgix.net/Nike-Killshot-2-J-Cre...\n",
       "20     https://stockx.imgix.net/Adidas-Yeezy-Powerpha...\n",
       "21     https://stockx.imgix.net/Air-Jordan-4-Retro-Pu...\n",
       "22     https://stockx.imgix.net/Air-Jordan-11-Retro-L...\n",
       "23     https://stockx.imgix.net/Air-Jordan-13-Retro-B...\n",
       "24     https://stockx.imgix.net/Air-Jordan-11-Retro-H...\n",
       "25     https://stockx.imgix.net/Air-Jordan-1-Retro-Hi...\n",
       "26     https://stockx.imgix.net/Air-Jordan-4-Retro-Mo...\n",
       "27     https://stockx.imgix.net/Adidas-NMD-R1-Japan-T...\n",
       "28     https://stockx.imgix.net/Air-Jordan-6-Retro-Ga...\n",
       "29     https://stockx.imgix.net/Air-Jordan-1-Retro-Al...\n",
       "                             ...                        \n",
       "970    https://stockx.imgix.net/Nike-Flyknit-Trainer-...\n",
       "971    https://stockx.imgix.net/Nike-Air-Max-97-Count...\n",
       "972    https://stockx.imgix.net/Adidas-Ultra-Boost-3p...\n",
       "973    https://stockx.imgix.net/Nike-Sock-Dart-Triple...\n",
       "974    https://stockx.imgix.net/Nike-Flyknit-Racer-Be...\n",
       "975    https://stockx.imgix.net/Adidas-ACE-16-Ultra-B...\n",
       "976    https://stockx.imgix.net/Air-Jordan-15-Retro-S...\n",
       "977    https://stockx.imgix.net/Air-Jordan-1-Retro-Hi...\n",
       "978    https://stockx.imgix.net/Adidas-NMD-R1-Gum-Pac...\n",
       "979    https://stockx.imgix.net/Air-Jordan-1-Retro-Hi...\n",
       "980    https://stockx.imgix.net/Nike-Air-More-Uptempo...\n",
       "981    https://stockx.imgix.net/Nike-Zoom-Vaporfly-4-...\n",
       "982    https://stockx.imgix.net/Air-Jordan-3-Retro-Pr...\n",
       "983    https://stockx.imgix.net/Nike-Hyperadapt-1pt0-...\n",
       "984    https://stockx.imgix.net/Adidas-Tennis-HU-Phar...\n",
       "985    https://stockx.imgix.net/Nike-Air-Max-2017-Coo...\n",
       "986    https://stockx.imgix.net/Adidas-Iniki-Runner-B...\n",
       "987    https://stockx.imgix.net/Adidas-NMD-CS1-TGWO-T...\n",
       "988    https://stockx.imgix.net/Nike-SB-Air-Force-2-L...\n",
       "989    https://stockx.imgix.net/Air-Jordan-2-Retro-De...\n",
       "990    https://stockx.imgix.net/Nike-SF-Air-Force-1-H...\n",
       "991    https://stockx.imgix.net/Nike-Air-Humara-17-Su...\n",
       "992    https://stockx.imgix.net/Nike-Air-More-Uptempo...\n",
       "993    https://stockx.imgix.net/Air-Jordan-1-Retro-Hi...\n",
       "994    https://stockx.imgix.net/Air-Jordan-1-Retro-Hi...\n",
       "995    https://stockx.imgix.net/Nike-SB-Dunk-Low-420-...\n",
       "996    https://stockx.imgix.net/Air-Jordan-1-Retro-Hi...\n",
       "997    https://stockx.imgix.net/Adidas-NMD-R1-Olive-B...\n",
       "998    https://stockx.imgix.net/Nike-Zoom-Vaporfly-4-...\n",
       "999    https://stockx.imgix.net/Nike-HyperAdapt-1pt0-...\n",
       "Name: imageUrl, Length: 1000, dtype: object"
      ]
     },
     "execution_count": 4,
     "metadata": {},
     "output_type": "execute_result"
    }
   ],
   "source": [
    "df.imageUrl"
   ]
  },
  {
   "cell_type": "code",
   "execution_count": null,
   "metadata": {
    "collapsed": true
   },
   "outputs": [],
   "source": []
  }
 ],
 "metadata": {
  "kernelspec": {
   "display_name": "Python 3",
   "language": "python",
   "name": "python3"
  },
  "language_info": {
   "codemirror_mode": {
    "name": "ipython",
    "version": 3
   },
   "file_extension": ".py",
   "mimetype": "text/x-python",
   "name": "python",
   "nbconvert_exporter": "python",
   "pygments_lexer": "ipython3",
   "version": "3.6.3"
  }
 },
 "nbformat": 4,
 "nbformat_minor": 2
}
