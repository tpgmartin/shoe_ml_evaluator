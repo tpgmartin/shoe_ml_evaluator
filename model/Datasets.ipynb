{
 "cells": [
  {
   "cell_type": "code",
   "execution_count": 1,
   "metadata": {},
   "outputs": [],
   "source": [
    "import sys\n",
    "\n",
    "def change_python_version(pv):\n",
    "    \n",
    "    if \"/lib\" in pv:\n",
    "        pv = pv.replace(\"/lib\", \"/envs/shoe_ml_evaluator/lib\")\n",
    "    \n",
    "    if \"python36\" in pv:\n",
    "        pv = pv.replace(\"python36\", \"python37\")\n",
    "    elif \"python3.6\" in pv:\n",
    "        pv = pv.replace(\"python3.6\", \"python3.7\")\n",
    "\n",
    "    return pv\n",
    "\n",
    "updated_path = list(map(change_python_version, sys.path))\n",
    "sys.path.extend(updated_path)"
   ]
  },
  {
   "cell_type": "code",
   "execution_count": 2,
   "metadata": {},
   "outputs": [],
   "source": [
    "import cv2\n",
    "import glob\n",
    "import numpy as np\n",
    "import os\n",
    "import pandas as pd\n",
    "from sklearn.preprocessing import LabelBinarizer\n",
    "from sklearn.preprocessing import MinMaxScaler"
   ]
  },
  {
   "cell_type": "code",
   "execution_count": 3,
   "metadata": {},
   "outputs": [],
   "source": [
    "df = pd.read_csv(\"../data/combined_browse_info.csv\")"
   ]
  },
  {
   "cell_type": "code",
   "execution_count": 4,
   "metadata": {},
   "outputs": [
    {
     "data": {
      "text/plain": [
       "Index(['belowRetail', 'brand', 'category', 'colorway', 'condition', 'gender',\n",
       "       'id', 'market', 'name', 'objectID', 'releaseDate', 'releaseTime',\n",
       "       'retailPrice', 'shoe', 'shortDescription', 'styleId', 'tickerSymbol',\n",
       "       'title', 'urlKey', 'uuid', 'year', 'imageUrl', 'absChangePercentage',\n",
       "       'annualHigh', 'annualLow', 'averageDeadstockPrice',\n",
       "       'averageDeadstockPriceRank', 'changePercentage', 'changeValue',\n",
       "       'createdAt', 'deadstockRangeHigh', 'deadstockRangeLow', 'deadstockSold',\n",
       "       'deadstockSoldRank', 'featured', 'highestBid', 'highestBidSize',\n",
       "       'lastHighestBidTime', 'lastLowestAskTime', 'lastSale', 'lastSaleDate',\n",
       "       'lastSaleSize', 'lowestAsk', 'lowestAskSize', 'numberOfAsks',\n",
       "       'numberOfBids', 'parentLowestAsk', 'pricePremium', 'pricePremiumRank',\n",
       "       'productId', 'productUuid', 'salesLast72Hours', 'salesLastPeriod',\n",
       "       'salesThisPeriod', 'skuUuid', 'totalDollars', 'updatedAt',\n",
       "       'volatility'],\n",
       "      dtype='object')"
      ]
     },
     "execution_count": 4,
     "metadata": {},
     "output_type": "execute_result"
    }
   ],
   "source": [
    "df.columns"
   ]
  },
  {
   "cell_type": "code",
   "execution_count": 5,
   "metadata": {
    "collapsed": true
   },
   "outputs": [],
   "source": [
    "# Columns\n",
    "# * brand\n",
    "# * category\n",
    "# * colorway\n",
    "# * gender\n",
    "# * id\n",
    "# * name\n",
    "# * title\n",
    "# * averageDeadstockPrice\n",
    "# * deadstockSold\n",
    "# * imageUrl"
   ]
  },
  {
   "cell_type": "code",
   "execution_count": null,
   "metadata": {
    "collapsed": true
   },
   "outputs": [],
   "source": []
  }
 ],
 "metadata": {
  "kernelspec": {
   "display_name": "Python 3",
   "language": "python",
   "name": "python3"
  },
  "language_info": {
   "codemirror_mode": {
    "name": "ipython",
    "version": 3
   },
   "file_extension": ".py",
   "mimetype": "text/x-python",
   "name": "python",
   "nbconvert_exporter": "python",
   "pygments_lexer": "ipython3",
   "version": "3.6.3"
  }
 },
 "nbformat": 4,
 "nbformat_minor": 2
}
